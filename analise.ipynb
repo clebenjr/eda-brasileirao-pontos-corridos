{
 "cells": [
  {
   "cell_type": "markdown",
   "id": "9cd9609e",
   "metadata": {},
   "source": [
    "## EDA - Brasileirão Pontos Corridos (2003 - 2024)\n"
   ]
  },
  {
   "cell_type": "markdown",
   "id": "40a55bdb",
   "metadata": {},
   "source": [
    "# Objetivo\n",
    "\n",
    "Essa análise tem como objetivo obter mais detalhes e conhecer mais os dados do Campeonato Brasileiro de Futebol desde que passou a ser disputado no formato de pontos corridos, em 2003, até a última edição concluída, em 2024. Alguns dos objetivos são:\n",
    "\n",
    "Identificar os times que participaram do campeonato e os respectivos aproveitamentos, tanto geral quanto como visitante / mandante. \n",
    "\n",
    "Identificar as melhores campanhas, a quantidade de títulos, rebaixamentos e saldos de gols dos times. \n",
    "\n",
    "Ver as participações dos clubes no Brasileirão por estado e por região."
   ]
  }
 ],
 "metadata": {
  "kernelspec": {
   "display_name": "Python 3",
   "language": "python",
   "name": "python3"
  },
  "language_info": {
   "codemirror_mode": {
    "name": "ipython",
    "version": 3
   },
   "file_extension": ".py",
   "mimetype": "text/x-python",
   "name": "python",
   "nbconvert_exporter": "python",
   "pygments_lexer": "ipython3",
   "version": "3.13.3"
  }
 },
 "nbformat": 4,
 "nbformat_minor": 5
}
