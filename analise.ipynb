{
 "cells": [
  {
   "cell_type": "markdown",
   "id": "9cd9609e",
   "metadata": {},
   "source": [
    "## EDA - Brasileirão Pontos Corridos (2003 - 2024)\n"
   ]
  },
  {
   "cell_type": "markdown",
   "id": "40a55bdb",
   "metadata": {},
   "source": [
    "# Objetivo\n",
    "\n",
    "Essa análise tem como objetivo obter mais detalhes e conhecer mais os dados do Campeonato Brasileiro de Futebol desde que passou a ser disputado no formato de pontos corridos, em 2003, até a última edição concluída, em 2024. Alguns dos objetivos são:\n",
    "\n",
    "Identificar os times que participaram do campeonato e os respectivos aproveitamentos, tanto geral quanto como visitante / mandante. \n",
    "\n",
    "Identificar as melhores campanhas, a quantidade de títulos, rebaixamentos e saldos de gols dos times. \n",
    "\n",
    "Ver as participações dos clubes no Brasileirão por estado e por região."
   ]
  },
  {
   "cell_type": "markdown",
   "id": "dbcfd3eb",
   "metadata": {},
   "source": [
    "# Bibliotecas necessárias"
   ]
  },
  {
   "cell_type": "code",
   "execution_count": 2,
   "id": "ea8002ac",
   "metadata": {},
   "outputs": [],
   "source": [
    "import pandas as pd\n"
   ]
  },
  {
   "cell_type": "markdown",
   "id": "e93fe635",
   "metadata": {},
   "source": [
    "# Times e quantidades de participações"
   ]
  },
  {
   "cell_type": "code",
   "execution_count": 23,
   "id": "9f8d2ba9",
   "metadata": {},
   "outputs": [
    {
     "name": "stdout",
     "output_type": "stream",
     "text": [
      "Ao todo, 45 times participaram do Brasileirão de 2003 a 2024.\n",
      "Flamengo tem 22 participações.\n",
      "Fluminense tem 22 participações.\n",
      "Sao Paulo tem 22 participações.\n",
      "Athletico-PR tem 21 participações.\n",
      "Internacional tem 21 participações.\n",
      "Santos tem 21 participações.\n",
      "Corinthians tem 21 participações.\n",
      "Atletico-MG tem 21 participações.\n",
      "Gremio tem 20 participações.\n",
      "Palmeiras tem 20 participações.\n",
      "Cruzeiro tem 19 participações.\n",
      "Botafogo-RJ tem 19 participações.\n",
      "Vasco tem 17 participações.\n",
      "Coritiba tem 15 participações.\n",
      "Goias tem 15 participações.\n",
      "Bahia tem 12 participações.\n",
      "Vitoria tem 11 participações.\n",
      "Figueirense tem 11 participações.\n",
      "Sport tem 11 participações.\n",
      "Ponte Preta tem 9 participações.\n",
      "Fortaleza tem 9 participações.\n",
      "Juventude tem 8 participações.\n",
      "Atletico-GO tem 8 participações.\n",
      "Avai tem 7 participações.\n",
      "Ceara tem 7 participações.\n",
      "Chapecoense tem 7 participações.\n",
      "Parana tem 6 participações.\n",
      "America-MG tem 6 participações.\n",
      "Criciuma tem 5 participações.\n",
      "Nautico tem 5 participações.\n",
      "Bragantino tem 5 participações.\n",
      "Sao Caetano tem 4 participações.\n",
      "Cuiaba tem 4 participações.\n",
      "Guarani tem 3 participações.\n",
      "Paysandu tem 3 participações.\n",
      "Portuguesa tem 3 participações.\n",
      "Santa Cruz tem 2 participações.\n",
      "Brasiliense tem 1 participações.\n",
      "America-RN tem 1 participações.\n",
      "Ipatinga tem 1 participações.\n",
      "Barueri tem 1 participações.\n",
      "Santo Andre tem 1 participações.\n",
      "Gremio Prudente tem 1 participações.\n",
      "Joinville tem 1 participações.\n",
      "CSA tem 1 participações.\n"
     ]
    }
   ],
   "source": [
    "df = pd.read_csv(r\"archive/campeonato-brasileiro-full.csv\", sep=',')\n",
    "df.head()\n",
    "\n",
    "times = {}\n",
    "for index, row in df.iterrows():\n",
    "    if row['rodata'] == 1:\n",
    "        if row['mandante'] in times:\n",
    "            times[row['mandante']] += 1\n",
    "        else:\n",
    "            times[row['mandante']] = 1\n",
    "        if row['visitante'] in times:\n",
    "            times[row['visitante']] += 1\n",
    "        else:\n",
    "            times[row['visitante']] = 1\n",
    "\n",
    "times_ordenado_temp = sorted(times.items(), key = lambda x : x[1], reverse = True)\n",
    "times_ordenado = dict(times_ordenado_temp)\n",
    "\n",
    "print(f'Ao todo, {len(times)} times participaram do Brasileirão de 2003 a 2024.')\n",
    "for time in times_ordenado:\n",
    "    print(f'{time} tem {times_ordenado[time]} participações.')"
   ]
  }
 ],
 "metadata": {
  "kernelspec": {
   "display_name": "Python 3",
   "language": "python",
   "name": "python3"
  },
  "language_info": {
   "codemirror_mode": {
    "name": "ipython",
    "version": 3
   },
   "file_extension": ".py",
   "mimetype": "text/x-python",
   "name": "python",
   "nbconvert_exporter": "python",
   "pygments_lexer": "ipython3",
   "version": "3.13.3"
  }
 },
 "nbformat": 4,
 "nbformat_minor": 5
}
